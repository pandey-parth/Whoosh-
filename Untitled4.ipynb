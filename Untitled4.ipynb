{
 "cells": [
  {
   "cell_type": "markdown",
   "metadata": {},
   "source": [
    "# WHOOSH LIBRARY"
   ]
  },
  {
   "cell_type": "markdown",
   "metadata": {},
   "source": [
    "### To install use pip install Whoosh"
   ]
  },
  {
   "cell_type": "markdown",
   "metadata": {},
   "source": [
    "## Creating a Schema"
   ]
  },
  {
   "cell_type": "code",
   "execution_count": 15,
   "metadata": {},
   "outputs": [],
   "source": [
    "from whoosh.fields import Schema, TEXT, KEYWORD, ID, STORED # Later I willl explain type of fields\n",
    "from whoosh.analysis import StemmingAnalyzer\n",
    "\n",
    "schema = Schema(\n",
    "                path=ID(stored=True),   # Inside Schema are fields, which is to be shown in search\n",
    "                title=TEXT(stored=True),\n",
    "                content=TEXT(analyzer=StemmingAnalyzer()),\n",
    "                tags=KEYWORD)"
   ]
  },
  {
   "cell_type": "code",
   "execution_count": 16,
   "metadata": {},
   "outputs": [
    {
     "data": {
      "text/plain": [
       "<Schema: ['content', 'path', 'tags', 'title']>"
      ]
     },
     "execution_count": 16,
     "metadata": {},
     "output_type": "execute_result"
    }
   ],
   "source": [
    "schema"
   ]
  },
  {
   "cell_type": "markdown",
   "metadata": {},
   "source": [
    "## Modifying the schema after indexing"
   ]
  },
  {
   "cell_type": "code",
   "execution_count": 17,
   "metadata": {},
   "outputs": [],
   "source": [
    "import os, os.path\n",
    "from whoosh import index\n",
    "\n",
    "if not os.path.exists(\"indexdir\"):\n",
    "    os.mkdir(\"indexdir\")\n",
    "\n",
    "ix = index.create_in(\"indexdir\", schema)  # Used for making directory"
   ]
  },
  {
   "cell_type": "code",
   "execution_count": 18,
   "metadata": {},
   "outputs": [],
   "source": [
    "import whoosh.index as index\n",
    "\n",
    "ix = index.open_dir(\"indexdir\")# Open directory"
   ]
  },
  {
   "cell_type": "code",
   "execution_count": 6,
   "metadata": {},
   "outputs": [],
   "source": [
    "writer = ix.writer() # This opens the writer where we cn add documents"
   ]
  },
  {
   "cell_type": "code",
   "execution_count": 7,
   "metadata": {},
   "outputs": [],
   "source": [
    "writer.add_document(path=u\"/a\", title=u\"A\", content=u\"Hello there\")\n",
    "writer.add_document(path=u\"/a\", title=u\"A\", content=u\"Deja vu!\")"
   ]
  },
  {
   "cell_type": "code",
   "execution_count": 8,
   "metadata": {},
   "outputs": [],
   "source": [
    "writer.commit() # Closing the writer, If you want to add documents then you have to open first directory and writer than add."
   ]
  },
  {
   "cell_type": "markdown",
   "metadata": {},
   "source": [
    "## Practice"
   ]
  },
  {
   "cell_type": "code",
   "execution_count": 19,
   "metadata": {},
   "outputs": [],
   "source": [
    "from whoosh.fields import Schema, TEXT, ID\n",
    "from whoosh import index"
   ]
  },
  {
   "cell_type": "code",
   "execution_count": 20,
   "metadata": {},
   "outputs": [],
   "source": [
    "import os.path\n",
    "if not os.path.exists(\"indexdir\"):\n",
    "    os.mkdir(\"indexdir\")"
   ]
  },
  {
   "cell_type": "code",
   "execution_count": 21,
   "metadata": {},
   "outputs": [],
   "source": [
    "schema = Schema(title=TEXT(stored=True), path=ID(stored=True), content=TEXT(stored = True)) # build schema\n",
    "#TEXT -> having text document ; ID-> which are fixed(cnnot be change) like URL\n",
    " \n",
    "ix = index.create_in(\"indexdir\", schema) # build index\n",
    " \n",
    "writer = ix.writer()\n",
    "# writer.remove_field('title') \n",
    "writer.add_document(title=u\"My document\", content=u\"This is my python document! hello big world\",\n",
    "                    path=u\"/a\")\n",
    "writer.add_document(title=u\"Second try\", content=u\"This is the second example hello world.\",\n",
    "                    path=u\"/b\")\n",
    "writer.add_document(title=u\"Third time's the charm\", content=u\"More examples. Examples are many.\",\n",
    "                    path=u\"/c\")\n",
    "\n",
    "writer.commit()"
   ]
  },
  {
   "cell_type": "code",
   "execution_count": 22,
   "metadata": {},
   "outputs": [
    {
     "name": "stdout",
     "output_type": "stream",
     "text": [
      "<Hit {'content': 'This is my python document! hello big world', 'path': '/a', 'title': 'My document'}> 1.2583815502828914\n",
      "{('content', b'python')}\n",
      "matched terms\n",
      "[('content', b'python')]\n",
      "more_results\n",
      "<Top 1 Results for Or([Term('content', 'big', boost=0.6588835188105945), Term('content', 'document', boost=0.6588835188105945), Term('content', 'my', boost=0.6588835188105945), Term('content', 'python', boost=0.6588835188105945), Term('content', 'hello', boost=0.5617184491361429)]) runtime=0.001674799999818788>\n"
     ]
    }
   ],
   "source": [
    "from whoosh.qparser import QueryParser\n",
    " \n",
    "with ix.searcher() as searcher:\n",
    "     query = QueryParser(\"content\", ix.schema).parse(\"This python\")\n",
    "     results = searcher.search(query, terms=True)\n",
    "     \n",
    "     for r in results:\n",
    "         print (r, r.score)\n",
    "         # Was this results object created with terms=True?\n",
    "         if results.has_matched_terms():\n",
    "            # What terms matched in the results?\n",
    "            print(results.matched_terms())\n",
    "         \n",
    "     # What terms matched in each hit?\n",
    "     print (\"matched terms\")\n",
    "     for hit in results:\n",
    "        print(hit.matched_terms())\n",
    "     print (\"more_results\")\n",
    "     first_hit = results[0]\n",
    "     more_results = first_hit.more_like_this(\"content\")\n",
    "     print (more_results)   \n",
    "    "
   ]
  },
  {
   "cell_type": "code",
   "execution_count": 23,
   "metadata": {},
   "outputs": [
    {
     "name": "stdout",
     "output_type": "stream",
     "text": [
      "Scored found of exactly 1 documents\n"
     ]
    }
   ],
   "source": [
    "found = results.scored_length()\n",
    "if results.has_exact_length():\n",
    "    print(\"Scored\", 'found', \"of exactly\", len(results), \"documents\")\n",
    "else:\n",
    "    low = results.estimated_min_length()\n",
    "    high = results.estimated_length()\n",
    " \n",
    "    print(\"Scored\", 'found', \"of between\", low, \"and\", high, \"documents\") "
   ]
  },
  {
   "cell_type": "markdown",
   "metadata": {},
   "source": [
    "## Practical Example Coursera Search"
   ]
  },
  {
   "cell_type": "code",
   "execution_count": 24,
   "metadata": {},
   "outputs": [],
   "source": [
    "import pandas as pd\n",
    "import numpy as np"
   ]
  },
  {
   "cell_type": "code",
   "execution_count": 25,
   "metadata": {},
   "outputs": [],
   "source": [
    "df=pd.read_excel(r'C:\\Users\\parth\\Desktop\\AlphaDynamic/Book1_final.xlsx')"
   ]
  },
  {
   "cell_type": "code",
   "execution_count": 26,
   "metadata": {},
   "outputs": [],
   "source": [
    "df['text']=df['course_title']+' '+df['course_organization']"
   ]
  },
  {
   "cell_type": "code",
   "execution_count": 27,
   "metadata": {},
   "outputs": [
    {
     "data": {
      "text/html": [
       "<div>\n",
       "<style scoped>\n",
       "    .dataframe tbody tr th:only-of-type {\n",
       "        vertical-align: middle;\n",
       "    }\n",
       "\n",
       "    .dataframe tbody tr th {\n",
       "        vertical-align: top;\n",
       "    }\n",
       "\n",
       "    .dataframe thead th {\n",
       "        text-align: right;\n",
       "    }\n",
       "</style>\n",
       "<table border=\"1\" class=\"dataframe\">\n",
       "  <thead>\n",
       "    <tr style=\"text-align: right;\">\n",
       "      <th></th>\n",
       "      <th>course_title</th>\n",
       "      <th>Category(1 ai, 2 comps, 3 business)</th>\n",
       "      <th>course_organization</th>\n",
       "      <th>course_Certificate_type</th>\n",
       "      <th>course_rating</th>\n",
       "      <th>course_difficulty</th>\n",
       "      <th>course_students_enrolled</th>\n",
       "      <th>course_link</th>\n",
       "      <th>text</th>\n",
       "    </tr>\n",
       "  </thead>\n",
       "  <tbody>\n",
       "    <tr>\n",
       "      <th>0</th>\n",
       "      <td>IBM Data Science</td>\n",
       "      <td>1</td>\n",
       "      <td>IBM</td>\n",
       "      <td>PROFESSIONAL CERTIFICATE</td>\n",
       "      <td>4.8</td>\n",
       "      <td>Beginner</td>\n",
       "      <td>550k</td>\n",
       "      <td>https://www.coursera.org/professional-certific...</td>\n",
       "      <td>IBM Data Science IBM</td>\n",
       "    </tr>\n",
       "    <tr>\n",
       "      <th>1</th>\n",
       "      <td>Python for Everybody</td>\n",
       "      <td>2</td>\n",
       "      <td>University of Michigan</td>\n",
       "      <td>SPECIALIZATION</td>\n",
       "      <td>4.8</td>\n",
       "      <td>Beginner</td>\n",
       "      <td>1.7m</td>\n",
       "      <td>https://www.coursera.org/specializations/python</td>\n",
       "      <td>Python for Everybody University of Michigan</td>\n",
       "    </tr>\n",
       "    <tr>\n",
       "      <th>2</th>\n",
       "      <td>Introduction to Data Science</td>\n",
       "      <td>1</td>\n",
       "      <td>IBM</td>\n",
       "      <td>SPECIALIZATION</td>\n",
       "      <td>4.8</td>\n",
       "      <td>Beginner</td>\n",
       "      <td>350k</td>\n",
       "      <td>https://www.coursera.org/specializations/intro...</td>\n",
       "      <td>Introduction to Data Science IBM</td>\n",
       "    </tr>\n",
       "    <tr>\n",
       "      <th>3</th>\n",
       "      <td>Google IT Support</td>\n",
       "      <td>2</td>\n",
       "      <td>Google</td>\n",
       "      <td>PROFESSIONAL CERTIFICATE</td>\n",
       "      <td>4.8</td>\n",
       "      <td>Beginner</td>\n",
       "      <td>420k</td>\n",
       "      <td>https://www.coursera.org/professional-certific...</td>\n",
       "      <td>Google IT Support Google</td>\n",
       "    </tr>\n",
       "    <tr>\n",
       "      <th>4</th>\n",
       "      <td>Deep Learning</td>\n",
       "      <td>1</td>\n",
       "      <td>deeplearning.ai</td>\n",
       "      <td>SPECIALIZATION</td>\n",
       "      <td>4.8</td>\n",
       "      <td>Intermediate</td>\n",
       "      <td>770k</td>\n",
       "      <td>https://www.coursera.org/specializations/deep-...</td>\n",
       "      <td>Deep Learning deeplearning.ai</td>\n",
       "    </tr>\n",
       "    <tr>\n",
       "      <th>...</th>\n",
       "      <td>...</td>\n",
       "      <td>...</td>\n",
       "      <td>...</td>\n",
       "      <td>...</td>\n",
       "      <td>...</td>\n",
       "      <td>...</td>\n",
       "      <td>...</td>\n",
       "      <td>...</td>\n",
       "      <td>...</td>\n",
       "    </tr>\n",
       "    <tr>\n",
       "      <th>980</th>\n",
       "      <td>Advertising and Society</td>\n",
       "      <td>3</td>\n",
       "      <td>Duke University</td>\n",
       "      <td>COURSE</td>\n",
       "      <td>4.7</td>\n",
       "      <td>Mixed</td>\n",
       "      <td>16k</td>\n",
       "      <td>https://www.coursera.org/learn/role-of-adverti...</td>\n",
       "      <td>Advertising and Society Duke University</td>\n",
       "    </tr>\n",
       "    <tr>\n",
       "      <th>981</th>\n",
       "      <td>Music Business Foundations</td>\n",
       "      <td>3</td>\n",
       "      <td>Berklee College of Music</td>\n",
       "      <td>COURSE</td>\n",
       "      <td>4.8</td>\n",
       "      <td>Mixed</td>\n",
       "      <td>36k</td>\n",
       "      <td>https://www.coursera.org/learn/music-business-...</td>\n",
       "      <td>Music Business Foundations Berklee College of ...</td>\n",
       "    </tr>\n",
       "    <tr>\n",
       "      <th>982</th>\n",
       "      <td>Design: Creation of Artifacts in Society</td>\n",
       "      <td>4</td>\n",
       "      <td>University of Pennsylvania</td>\n",
       "      <td>COURSE</td>\n",
       "      <td>4.7</td>\n",
       "      <td>Beginner</td>\n",
       "      <td>44k</td>\n",
       "      <td>https://www.coursera.org/learn/design</td>\n",
       "      <td>Design: Creation of Artifacts in Society Unive...</td>\n",
       "    </tr>\n",
       "    <tr>\n",
       "      <th>983</th>\n",
       "      <td>Introduction to Big Data</td>\n",
       "      <td>1</td>\n",
       "      <td>University of California San Diego</td>\n",
       "      <td>COURSE</td>\n",
       "      <td>4.6</td>\n",
       "      <td>Mixed</td>\n",
       "      <td>180k</td>\n",
       "      <td>https://www.coursera.org/learn/big-data-introd...</td>\n",
       "      <td>Introduction to Big Data University of Califor...</td>\n",
       "    </tr>\n",
       "    <tr>\n",
       "      <th>984</th>\n",
       "      <td>The Social and Technical Context of Health Inf...</td>\n",
       "      <td>4</td>\n",
       "      <td>Johns Hopkins University</td>\n",
       "      <td>COURSE</td>\n",
       "      <td>4.3</td>\n",
       "      <td>Beginner</td>\n",
       "      <td>6.8k</td>\n",
       "      <td>https://www.coursera.org/learn/the-socio-techn...</td>\n",
       "      <td>The Social and Technical Context of Health Inf...</td>\n",
       "    </tr>\n",
       "  </tbody>\n",
       "</table>\n",
       "<p>985 rows × 9 columns</p>\n",
       "</div>"
      ],
      "text/plain": [
       "                                          course_title  \\\n",
       "0                                     IBM Data Science   \n",
       "1                                 Python for Everybody   \n",
       "2                         Introduction to Data Science   \n",
       "3                                    Google IT Support   \n",
       "4                                        Deep Learning   \n",
       "..                                                 ...   \n",
       "980                            Advertising and Society   \n",
       "981                         Music Business Foundations   \n",
       "982           Design: Creation of Artifacts in Society   \n",
       "983                           Introduction to Big Data   \n",
       "984  The Social and Technical Context of Health Inf...   \n",
       "\n",
       "    Category(1 ai, 2 comps, 3 business)                 course_organization  \\\n",
       "0                                     1                                 IBM   \n",
       "1                                     2              University of Michigan   \n",
       "2                                     1                                 IBM   \n",
       "3                                     2                              Google   \n",
       "4                                     1                     deeplearning.ai   \n",
       "..                                  ...                                 ...   \n",
       "980                                   3                     Duke University   \n",
       "981                                   3            Berklee College of Music   \n",
       "982                                   4          University of Pennsylvania   \n",
       "983                                   1  University of California San Diego   \n",
       "984                                   4            Johns Hopkins University   \n",
       "\n",
       "      course_Certificate_type  course_rating course_difficulty  \\\n",
       "0    PROFESSIONAL CERTIFICATE            4.8          Beginner   \n",
       "1              SPECIALIZATION            4.8          Beginner   \n",
       "2              SPECIALIZATION            4.8          Beginner   \n",
       "3    PROFESSIONAL CERTIFICATE            4.8          Beginner   \n",
       "4              SPECIALIZATION            4.8      Intermediate   \n",
       "..                        ...            ...               ...   \n",
       "980                    COURSE            4.7             Mixed   \n",
       "981                    COURSE            4.8             Mixed   \n",
       "982                    COURSE            4.7          Beginner   \n",
       "983                    COURSE            4.6             Mixed   \n",
       "984                    COURSE            4.3          Beginner   \n",
       "\n",
       "    course_students_enrolled  \\\n",
       "0                       550k   \n",
       "1                       1.7m   \n",
       "2                       350k   \n",
       "3                       420k   \n",
       "4                       770k   \n",
       "..                       ...   \n",
       "980                      16k   \n",
       "981                      36k   \n",
       "982                      44k   \n",
       "983                     180k   \n",
       "984                     6.8k   \n",
       "\n",
       "                                           course_link  \\\n",
       "0    https://www.coursera.org/professional-certific...   \n",
       "1      https://www.coursera.org/specializations/python   \n",
       "2    https://www.coursera.org/specializations/intro...   \n",
       "3    https://www.coursera.org/professional-certific...   \n",
       "4    https://www.coursera.org/specializations/deep-...   \n",
       "..                                                 ...   \n",
       "980  https://www.coursera.org/learn/role-of-adverti...   \n",
       "981  https://www.coursera.org/learn/music-business-...   \n",
       "982              https://www.coursera.org/learn/design   \n",
       "983  https://www.coursera.org/learn/big-data-introd...   \n",
       "984  https://www.coursera.org/learn/the-socio-techn...   \n",
       "\n",
       "                                                  text  \n",
       "0                                 IBM Data Science IBM  \n",
       "1          Python for Everybody University of Michigan  \n",
       "2                     Introduction to Data Science IBM  \n",
       "3                             Google IT Support Google  \n",
       "4                        Deep Learning deeplearning.ai  \n",
       "..                                                 ...  \n",
       "980            Advertising and Society Duke University  \n",
       "981  Music Business Foundations Berklee College of ...  \n",
       "982  Design: Creation of Artifacts in Society Unive...  \n",
       "983  Introduction to Big Data University of Califor...  \n",
       "984  The Social and Technical Context of Health Inf...  \n",
       "\n",
       "[985 rows x 9 columns]"
      ]
     },
     "execution_count": 27,
     "metadata": {},
     "output_type": "execute_result"
    }
   ],
   "source": [
    "# df1=df[df['Category(1 ai, 2 comps, 3 business)']==1]\n",
    "# df1.tail(50)\n",
    "df"
   ]
  },
  {
   "cell_type": "code",
   "execution_count": 28,
   "metadata": {},
   "outputs": [],
   "source": [
    "from whoosh.fields import Schema, TEXT, KEYWORD, ID, STORED\n",
    "from whoosh.analysis import StemmingAnalyzer\n",
    "from whoosh.analysis import RegexTokenizer\n",
    "schema = Schema(\n",
    "                url=ID(stored=True),\n",
    "                title=TEXT(analyzer=StemmingAnalyzer(),stored=True), # Stemming every word\n",
    "                organization=TEXT(stored=True,field_boost=2.0),  # Give more priority to it\n",
    "                tags=KEYWORD)\n",
    "\n",
    "import os, os.path\n",
    "from whoosh import index\n",
    "\n",
    "if not os.path.exists(\"indexdir10\"):\n",
    "    os.mkdir(\"indexdir10\")\n",
    "\n",
    "idx = index.create_in(\"indexdir10\", schema)"
   ]
  },
  {
   "cell_type": "code",
   "execution_count": 29,
   "metadata": {},
   "outputs": [],
   "source": [
    "idx = index.open_dir(\"indexdir10\")"
   ]
  },
  {
   "cell_type": "code",
   "execution_count": 30,
   "metadata": {},
   "outputs": [],
   "source": [
    "writer=idx.writer()\n",
    "for i in range(len(df)):\n",
    "    writer.add_document(url=df.loc[i]['course_link'],title=df.loc[i]['course_title'],organization=df.loc[i]['course_organization'],tags=df.loc[i]['course_difficulty'])\n",
    "writer.commit()"
   ]
  },
  {
   "cell_type": "code",
   "execution_count": 31,
   "metadata": {},
   "outputs": [
    {
     "name": "stdout",
     "output_type": "stream",
     "text": [
      "3\n",
      "<Hit {'organization': 'deeplearning.ai', 'title': 'Introduction to TensorFlow for Artificial Intelligence, Machine Learning, and Deep Learning', 'url': 'https://www.coursera.org/learn/introduction-tensorflow'}> 6.506347280052198\n",
      "<Hit {'organization': 'University of Colorado System', 'title': 'Data Warehousing for Business Intelligence', 'url': 'https://www.coursera.org/specializations/data-warehousing'}> 6.506347280052198\n",
      "<Hit {'organization': 'IBM', 'title': 'Introduction to Artificial Intelligence (AI)', 'url': 'https://www.coursera.org/learn/introduction-to-ai'}> 6.506347280052198\n"
     ]
    }
   ],
   "source": [
    "from whoosh.qparser import QueryParser\n",
    "from whoosh import scoring\n",
    "with idx.searcher(weighting=scoring.TF_IDF()) as searcher:\n",
    "     query = QueryParser(\"title\", idx.schema).parse(u\"Intelligence\")\n",
    "#      results = searcher.search_page(query,1)\n",
    "#      restrict_q = query.Term(\"tag\", \"Advanced\")\n",
    "\n",
    "     results=searcher.search(query,limit=None)\n",
    "     print(len(results))\n",
    "#      print(results[0]['url'])\n",
    "     for r in results:\n",
    "         print (r, r.score)"
   ]
  },
  {
   "cell_type": "code",
   "execution_count": 32,
   "metadata": {},
   "outputs": [
    {
     "name": "stdout",
     "output_type": "stream",
     "text": [
      "46\n",
      "<Hit {'organization': 'University of California San Diego', 'title': 'Learning How to Learn: Powerful mental tools to help you master tough subjects', 'url': 'https://www.coursera.org/learn/learning-how-to-learn'}> 8.08498807892406\n",
      "<Hit {'organization': 'deeplearning.ai', 'title': 'Introduction to TensorFlow for Artificial Intelligence, Machine Learning, and Deep Learning', 'url': 'https://www.coursera.org/learn/introduction-tensorflow'}> 8.08498807892406\n",
      "<Hit {'organization': 'New York University', 'title': 'Machine Learning and Reinforcement Learning in Finance', 'url': 'https://www.coursera.org/specializations/machine-learning-reinforcement-finance'}> 8.08498807892406\n",
      "<Hit {'organization': 'University of Illinois at Urbana-Champaign', 'title': 'e-Learning Ecologies: Innovative Approaches to Teaching and Learning for the Digital Age', 'url': 'https://www.coursera.org/learn/elearning'}> 8.08498807892406\n",
      "<Hit {'organization': 'University of California San Diego', 'title': 'Aprendiendo a aprender: Poderosas herramientas mentales con las que podrás dominar temas difíciles (Learning How to Learn)', 'url': 'https://www.coursera.org/learn/aprendiendo-a-aprender'}> 8.08498807892406\n",
      "<Hit {'organization': 'deeplearning.ai', 'title': 'Deep Learning', 'url': 'https://www.coursera.org/specializations/deep-learning'}> 4.04249403946203\n",
      "<Hit {'organization': 'Stanford University', 'title': 'Machine Learning', 'url': 'https://www.coursera.org/learn/machine-learning'}> 4.04249403946203\n",
      "<Hit {'organization': 'Google Cloud', 'title': 'Data Engineering, Big Data, and Machine Learning on GCP', 'url': 'https://www.coursera.org/specializations/gcp-data-machine-learning'}> 4.04249403946203\n",
      "<Hit {'organization': 'Imperial College London', 'title': 'Mathematics for Machine Learning', 'url': 'https://www.coursera.org/specializations/mathematics-machine-learning'}> 4.04249403946203\n",
      "<Hit {'organization': 'University of Alberta', 'title': 'Reinforcement Learning', 'url': 'https://www.coursera.org/specializations/reinforcement-learning'}> 4.04249403946203\n",
      "<Hit {'organization': 'deeplearning.ai', 'title': 'Neural Networks and Deep Learning', 'url': 'https://www.coursera.org/learn/neural-networks-deep-learning'}> 4.04249403946203\n",
      "<Hit {'organization': 'University of California, Davis', 'title': 'Learn SQL Basics for Data Science', 'url': 'https://www.coursera.org/specializations/learn-sql-basics-data-science'}> 4.04249403946203\n",
      "<Hit {'organization': 'UNSW Sydney (The University of New South Wales)', 'title': 'Learning to Teach Online', 'url': 'https://www.coursera.org/learn/teach-online'}> 4.04249403946203\n",
      "<Hit {'organization': 'National Research University Higher School of Economics', 'title': 'Advanced Machine Learning', 'url': 'https://www.coursera.org/specializations/aml'}> 4.04249403946203\n",
      "<Hit {'organization': 'University of California, Davis', 'title': 'Learn Spanish: Basic Spanish Vocabulary', 'url': 'https://www.coursera.org/specializations/learn-spanish'}> 4.04249403946203\n",
      "<Hit {'organization': 'Google Cloud', 'title': 'Machine Learning with TensorFlow on Google Cloud Platform', 'url': 'https://www.coursera.org/specializations/machine-learning-tensorflow-gcp'}> 4.04249403946203\n",
      "<Hit {'organization': 'Johns Hopkins University', 'title': 'Data Science: Statistics and Machine Learning', 'url': 'https://www.coursera.org/specializations/data-science-statistics-machine-learning'}> 4.04249403946203\n",
      "<Hit {'organization': 'EDHEC Business School', 'title': 'Investment Management with Python and Machine Learning', 'url': 'https://www.coursera.org/specializations/investment-management-python-machine-learning'}> 4.04249403946203\n",
      "<Hit {'organization': 'Peking University', 'title': 'Learn Chinese: HSK Test Preparation', 'url': 'https://www.coursera.org/specializations/hsk-learn-chinese'}> 4.04249403946203\n",
      "<Hit {'organization': 'University of California, Irvine', 'title': 'Learn English: Intermediate Grammar', 'url': 'https://www.coursera.org/specializations/intermediate-grammar'}> 4.04249403946203\n",
      "<Hit {'organization': 'Imperial College London', 'title': 'Mathematics for Machine Learning: Linear Algebra', 'url': 'https://www.coursera.org/learn/linear-algebra-machine-learning'}> 4.04249403946203\n",
      "<Hit {'organization': 'University of Washington', 'title': 'Machine Learning', 'url': 'https://www.coursera.org/specializations/machine-learning'}> 4.04249403946203\n",
      "<Hit {'organization': 'deeplearning.ai', 'title': 'Structuring Machine Learning Projects', 'url': 'https://www.coursera.org/learn/machine-learning-projects'}> 4.04249403946203\n",
      "<Hit {'organization': 'Google Cloud', 'title': 'Machine Learning for Trading', 'url': 'https://www.coursera.org/specializations/machine-learning-trading'}> 4.04249403946203\n",
      "<Hit {'organization': 'University of California, Irvine', 'title': 'Learn English: Advanced Grammar and Punctuation', 'url': 'https://www.coursera.org/specializations/advanced-grammar-punctuation'}> 4.04249403946203\n",
      "<Hit {'organization': 'University of Toronto', 'title': 'Learn to Program: The Fundamentals', 'url': 'https://www.coursera.org/learn/learn-to-program'}> 4.04249403946203\n",
      "<Hit {'organization': 'Google Cloud', 'title': 'Advanced Machine Learning with TensorFlow on Google Cloud Platform', 'url': 'https://www.coursera.org/specializations/advanced-machine-learning-tensorflow-gcp'}> 4.04249403946203\n",
      "<Hit {'organization': 'Yonsei University', 'title': 'Learn to Speak Korean 1', 'url': 'https://www.coursera.org/learn/learn-speak-korean1'}> 4.04249403946203\n",
      "<Hit {'organization': 'IBM', 'title': 'Machine Learning with Python', 'url': 'https://www.coursera.org/learn/machine-learning-with-python'}> 4.04249403946203\n",
      "<Hit {'organization': 'University of Alberta', 'title': 'Fundamentals of Reinforcement Learning', 'url': 'https://www.coursera.org/learn/fundamentals-of-reinforcement-learning'}> 4.04249403946203\n",
      "<Hit {'organization': 'University of Colorado Boulder', 'title': 'Blended Language Learning: Design and Practice for Teachers', 'url': 'https://www.coursera.org/learn/blended-language-learning-design-practice-for-teachers'}> 4.04249403946203\n",
      "<Hit {'organization': 'Shanghai Jiao Tong University', 'title': 'Learn Mandarin Chinese', 'url': 'https://www.coursera.org/specializations/learn-mandarin'}> 4.04249403946203\n",
      "<Hit {'organization': 'Google Cloud', 'title': 'Google Cloud Platform Big Data and Machine Learning Fundamentals', 'url': 'https://www.coursera.org/learn/gcp-big-data-ml-fundamentals'}> 4.04249403946203\n",
      "<Hit {'organization': 'Google Cloud', 'title': 'Machine Learning for Business Professionals', 'url': 'https://www.coursera.org/learn/machine-learning-business-professionals'}> 4.04249403946203\n",
      "<Hit {'organization': 'University of California, Irvine', 'title': 'Learn English: Advanced Academic Speaking and Listening', 'url': 'https://www.coursera.org/specializations/speaklistenenglish'}> 4.04249403946203\n",
      "<Hit {'organization': 'University of Colorado Boulder', 'title': 'The Teacher and Social and Emotional Learning (SEL)', 'url': 'https://www.coursera.org/specializations/teacher-sel'}> 4.04249403946203\n",
      "<Hit {'organization': 'Imperial College London', 'title': 'Mathematics for Machine Learning: Multivariate Calculus', 'url': 'https://www.coursera.org/learn/multivariate-calculus-machine-learning'}> 4.04249403946203\n",
      "<Hit {'organization': 'University of London', 'title': 'Machine Learning for All', 'url': 'https://www.coursera.org/learn/uol-machine-learning-for-all'}> 4.04249403946203\n",
      "<Hit {'organization': 'Amazon Web Services', 'title': 'Getting Started with AWS Machine Learning', 'url': 'https://www.coursera.org/learn/aws-machine-learning'}> 4.04249403946203\n",
      "<Hit {'organization': 'McMaster University', 'title': 'Mindshift: Break Through Obstacles to Learning and Discover Your Hidden Potential', 'url': 'https://www.coursera.org/learn/mindshift'}> 4.04249403946203\n",
      "<Hit {'organization': 'University System of Georgia', 'title': 'K-12 Blended & Online Learning', 'url': 'https://www.coursera.org/learn/k-12-online-education'}> 4.04249403946203\n",
      "<Hit {'organization': 'University of Alberta', 'title': 'Sample-based Learning Methods', 'url': 'https://www.coursera.org/learn/sample-based-learning-methods'}> 4.04249403946203\n",
      "<Hit {'organization': 'University of Washington', 'title': 'Machine Learning Foundations: A Case Study Approach', 'url': 'https://www.coursera.org/learn/ml-foundations'}> 4.04249403946203\n",
      "<Hit {'organization': 'New York Institute of Finance', 'title': 'Introduction to Trading, Machine Learning & GCP', 'url': 'https://www.coursera.org/learn/introduction-trading-machine-learning-gcp'}> 4.04249403946203\n",
      "<Hit {'organization': 'Coursera Project Network', 'title': 'Sentiment Analysis with Deep Learning using BERT', 'url': 'https://www.coursera.org/projects/sentiment-analysis-bert'}> 4.04249403946203\n",
      "<Hit {'organization': 'Imperial College London', 'title': 'Mathematics for Machine Learning: PCA', 'url': 'https://www.coursera.org/learn/pca-machine-learning'}> 4.04249403946203\n"
     ]
    }
   ],
   "source": [
    "from whoosh.qparser import MultifieldParser\n",
    "from whoosh import scoring\n",
    "with idx.searcher(weighting=scoring.TF_IDF()) as searcher:\n",
    "     query = MultifieldParser([\"title\",\"organization\"], idx.schema).parse(\"learn\")\n",
    "#      results = searcher.search_page(query,1)\n",
    "#      restrict_q = query.Term(\"tag\", \"Advanced\")\n",
    "\n",
    "     results=searcher.search(query,limit=None)\n",
    "     print(len(results))\n",
    "#      print(results[0]['url'])\n",
    "     arr=[]\n",
    "     for r in results:\n",
    "#             arr.append(r)\n",
    "         print (r, r.score)\n",
    "#          print(type(r))\n",
    "# arr"
   ]
  },
  {
   "cell_type": "code",
   "execution_count": 34,
   "metadata": {},
   "outputs": [
    {
     "name": "stdout",
     "output_type": "stream",
     "text": [
      "3\n",
      "<Hit {'organization': 'University of Pennsylvania', 'title': 'Robotics', 'url': 'https://www.coursera.org/specializations/robotics'}> 6.506347280052198\n",
      "<Hit {'organization': 'Northwestern University', 'title': 'Modern Robotics:  Mechanics, Planning, and Control', 'url': 'https://www.coursera.org/specializations/modernrobotics'}> 6.506347280052198\n",
      "<Hit {'organization': 'Georgia Institute of Technology', 'title': 'Control of Mobile Robots', 'url': 'https://www.coursera.org/learn/mobile-robot'}> 6.506347280052198\n"
     ]
    }
   ],
   "source": [
    "from whoosh.qparser import MultifieldParser  # Parse multifield\n",
    "from whoosh import scoring\n",
    "\n",
    "with idx.searcher(weighting=scoring.TF_IDF()) as searcher:\n",
    "     query = MultifieldParser([\"title\",\"organization\"], idx.schema).parse(u\"robot\")\n",
    "#      results = searcher.search_page(query,1)\n",
    "#      restrict_q = query.Term(\"tag\", \"Advanced\")\n",
    "\n",
    "     results=searcher.search(query,limit=None)\n",
    "     print(len(results))\n",
    "#      print(results[0]['url'])\n",
    "     for r in results:\n",
    "         print (r, r.score)"
   ]
  },
  {
   "cell_type": "code",
   "execution_count": null,
   "metadata": {},
   "outputs": [],
   "source": []
  }
 ],
 "metadata": {
  "kernelspec": {
   "display_name": "Python 3",
   "language": "python",
   "name": "python3"
  },
  "language_info": {
   "codemirror_mode": {
    "name": "ipython",
    "version": 3
   },
   "file_extension": ".py",
   "mimetype": "text/x-python",
   "name": "python",
   "nbconvert_exporter": "python",
   "pygments_lexer": "ipython3",
   "version": "3.7.6"
  }
 },
 "nbformat": 4,
 "nbformat_minor": 4
}
